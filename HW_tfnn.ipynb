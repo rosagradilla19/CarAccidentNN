{
 "cells": [
  {
   "cell_type": "code",
   "execution_count": 1,
   "metadata": {},
   "outputs": [],
   "source": [
    "import numpy as np\n",
    "import tensorflow as tf\n",
    "import pandas as pd"
   ]
  },
  {
   "cell_type": "code",
   "execution_count": 4,
   "metadata": {},
   "outputs": [
    {
     "name": "stdout",
     "output_type": "stream",
     "text": [
      "Downloading data from https://raw.githubusercontent.com/rosagradilla19/CarAccidentNN/master/test_2.csv\n",
      "1253376/1252455 [==============================] - 1s 1us/step\n"
     ]
    }
   ],
   "source": [
    "TRAIN_DATA_FILE = 'https://raw.githubusercontent.com/rosagradilla19/CarAccidentNN/master/train_2.csv'\n",
    "TEST_DATA_FILE = 'https://raw.githubusercontent.com/rosagradilla19/CarAccidentNN/master/test_2.csv'\n",
    "\n",
    "train_file_path = tf.keras.utils.get_file('train_2.csv', TRAIN_DATA_FILE)\n",
    "test_file_path = tf.keras.utils.get_file('test_2.csv', TEST_DATA_FILE)"
   ]
  },
  {
   "cell_type": "code",
   "execution_count": 5,
   "metadata": {},
   "outputs": [],
   "source": [
    "# Make numpy values easier to read.\n",
    "np.set_printoptions(precision=3, suppress=True)"
   ]
  },
  {
   "cell_type": "code",
   "execution_count": 10,
   "metadata": {},
   "outputs": [
    {
     "data": {
      "text/plain": [
       "7"
      ]
     },
     "execution_count": 10,
     "metadata": {},
     "output_type": "execute_result"
    }
   ],
   "source": [
    "df = pd.read_csv(TRAIN_DATA_FILE)\n",
    "\n",
    "len(df.injSeverity.unique())"
   ]
  },
  {
   "cell_type": "code",
   "execution_count": 76,
   "metadata": {},
   "outputs": [],
   "source": [
    "LABEL_COLUMN = 'injSeverity'\n",
    "LABELS = [3., 1., 4., 0., 2., 5., 6.]"
   ]
  },
  {
   "cell_type": "code",
   "execution_count": 50,
   "metadata": {},
   "outputs": [],
   "source": [
    "def get_dataset(file_path, **kwargs):\n",
    "  dataset = tf.data.experimental.make_csv_dataset(\n",
    "      file_path,\n",
    "      batch_size=32, # Artificially small to make examples easier to show.\n",
    "      label_name=LABEL_COLUMN,\n",
    "      na_value=\"?\",\n",
    "      num_epochs=1,\n",
    "      ignore_errors=True, \n",
    "      **kwargs)\n",
    "  return dataset\n",
    "\n",
    "raw_train_data = get_dataset(train_file_path, select_columns=SELECT_COLUMNS)\n",
    "raw_test_data = get_dataset(test_file_path, select_columns=SELECT_COLUMNS)"
   ]
  },
  {
   "cell_type": "code",
   "execution_count": 13,
   "metadata": {},
   "outputs": [],
   "source": [
    "def show_batch(dataset):\n",
    "  for batch, label in dataset.take(1):\n",
    "    for key, value in batch.items():\n",
    "      print(\"{:20s}: {}\".format(key,value.numpy()))"
   ]
  },
  {
   "cell_type": "code",
   "execution_count": 26,
   "metadata": {},
   "outputs": [
    {
     "name": "stdout",
     "output_type": "stream",
     "text": [
      "dvcat               : [b'10-24' b'10-24' b'25-39' b'25-39' b'10-24']\n",
      "weight              : [   5.728   64.31    37.71    18.465 2660.682]\n",
      "dead                : [b'alive' b'alive' b'alive' b'alive' b'alive']\n",
      "airbag              : [b'airbag' b'none' b'airbag' b'airbag' b'none']\n",
      "seatbelt            : [b'belted' b'belted' b'belted' b'belted' b'none']\n",
      "frontal             : [0 1 0 1 1]\n",
      "sex                 : [b'm' b'f' b'm' b'f' b'm']\n",
      "ageOFocc            : [23 43 17 16 42]\n",
      "yearacc             : [1997 1997 1997 1997 1997]\n",
      "yearVeh             : [1995. 1978. 1991. 1992. 1979.]\n",
      "abcat               : [b'nodeploy' b'unavail' b'deploy' b'deploy' b'unavail']\n",
      "occRole             : [b'pass' b'driver' b'driver' b'driver' b'driver']\n",
      "deploy              : [0 0 1 1 0]\n"
     ]
    }
   ],
   "source": [
    "show_batch(raw_train_data)"
   ]
  },
  {
   "cell_type": "markdown",
   "metadata": {},
   "source": [
    "# Data Processing"
   ]
  },
  {
   "cell_type": "code",
   "execution_count": 24,
   "metadata": {},
   "outputs": [],
   "source": [
    "SELECT_COLUMNS = ['dvcat', 'weight', 'dead', 'airbag', 'seatbelt',\n",
    "       'frontal', 'sex', 'ageOFocc', 'yearacc', 'yearVeh', 'abcat', 'occRole',\n",
    "       'deploy','injSeverity']"
   ]
  },
  {
   "cell_type": "markdown",
   "metadata": {},
   "source": [
    "## Continuous data"
   ]
  },
  {
   "cell_type": "code",
   "execution_count": 16,
   "metadata": {},
   "outputs": [],
   "source": [
    "NUMERIC_FEATURES = ['weight','ageOFocc','yearacc','yearVeh','frontal','deploy']"
   ]
  },
  {
   "cell_type": "code",
   "execution_count": 18,
   "metadata": {},
   "outputs": [],
   "source": [
    "# Preprocessor that selects a list of numeric features and packs\n",
    "# into a single column\n",
    "\n",
    "class PackNumericFeatures(object):\n",
    "  def __init__(self, names):\n",
    "    self.names = names\n",
    "\n",
    "  def __call__(self, features, labels):\n",
    "    numeric_features = [features.pop(name) for name in self.names]\n",
    "    numeric_features = [tf.cast(feat, tf.float32) for feat in numeric_features]\n",
    "    numeric_features = tf.stack(numeric_features, axis=-1)\n",
    "    features['numeric'] = numeric_features\n",
    "\n",
    "    return features, labels"
   ]
  },
  {
   "cell_type": "code",
   "execution_count": 51,
   "metadata": {},
   "outputs": [],
   "source": [
    "packed_train_data = raw_train_data.map(\n",
    "    PackNumericFeatures(NUMERIC_FEATURES))\n",
    "\n",
    "packed_test_data = raw_test_data.map(\n",
    "    PackNumericFeatures(NUMERIC_FEATURES))"
   ]
  },
  {
   "cell_type": "code",
   "execution_count": 75,
   "metadata": {},
   "outputs": [],
   "source": [
    "#show_batch(packed_train_data)"
   ]
  },
  {
   "cell_type": "code",
   "execution_count": 31,
   "metadata": {},
   "outputs": [],
   "source": [
    "example_batch, labels_batch = next(iter(packed_train_data)) "
   ]
  },
  {
   "cell_type": "markdown",
   "metadata": {},
   "source": [
    "### Data Normalization"
   ]
  },
  {
   "cell_type": "code",
   "execution_count": 32,
   "metadata": {},
   "outputs": [
    {
     "data": {
      "text/html": [
       "<div>\n",
       "<style scoped>\n",
       "    .dataframe tbody tr th:only-of-type {\n",
       "        vertical-align: middle;\n",
       "    }\n",
       "\n",
       "    .dataframe tbody tr th {\n",
       "        vertical-align: top;\n",
       "    }\n",
       "\n",
       "    .dataframe thead th {\n",
       "        text-align: right;\n",
       "    }\n",
       "</style>\n",
       "<table border=\"1\" class=\"dataframe\">\n",
       "  <thead>\n",
       "    <tr style=\"text-align: right;\">\n",
       "      <th></th>\n",
       "      <th>weight</th>\n",
       "      <th>ageOFocc</th>\n",
       "      <th>yearacc</th>\n",
       "      <th>yearVeh</th>\n",
       "      <th>frontal</th>\n",
       "      <th>deploy</th>\n",
       "    </tr>\n",
       "  </thead>\n",
       "  <tbody>\n",
       "    <tr>\n",
       "      <th>count</th>\n",
       "      <td>12963.000000</td>\n",
       "      <td>12963.000000</td>\n",
       "      <td>12963.000000</td>\n",
       "      <td>12963.000000</td>\n",
       "      <td>12963.000000</td>\n",
       "      <td>12963.000000</td>\n",
       "    </tr>\n",
       "    <tr>\n",
       "      <th>mean</th>\n",
       "      <td>445.180672</td>\n",
       "      <td>37.287665</td>\n",
       "      <td>1998.058783</td>\n",
       "      <td>1991.342205</td>\n",
       "      <td>0.640130</td>\n",
       "      <td>0.287588</td>\n",
       "    </tr>\n",
       "    <tr>\n",
       "      <th>std</th>\n",
       "      <td>1593.256321</td>\n",
       "      <td>17.962704</td>\n",
       "      <td>0.826819</td>\n",
       "      <td>5.330114</td>\n",
       "      <td>0.479981</td>\n",
       "      <td>0.452655</td>\n",
       "    </tr>\n",
       "    <tr>\n",
       "      <th>min</th>\n",
       "      <td>0.000000</td>\n",
       "      <td>16.000000</td>\n",
       "      <td>1997.000000</td>\n",
       "      <td>1959.000000</td>\n",
       "      <td>0.000000</td>\n",
       "      <td>0.000000</td>\n",
       "    </tr>\n",
       "    <tr>\n",
       "      <th>25%</th>\n",
       "      <td>31.155000</td>\n",
       "      <td>22.000000</td>\n",
       "      <td>1997.000000</td>\n",
       "      <td>1988.000000</td>\n",
       "      <td>0.000000</td>\n",
       "      <td>0.000000</td>\n",
       "    </tr>\n",
       "    <tr>\n",
       "      <th>50%</th>\n",
       "      <td>76.653000</td>\n",
       "      <td>33.000000</td>\n",
       "      <td>1998.000000</td>\n",
       "      <td>1992.000000</td>\n",
       "      <td>1.000000</td>\n",
       "      <td>0.000000</td>\n",
       "    </tr>\n",
       "    <tr>\n",
       "      <th>75%</th>\n",
       "      <td>330.857000</td>\n",
       "      <td>48.000000</td>\n",
       "      <td>1999.000000</td>\n",
       "      <td>1996.000000</td>\n",
       "      <td>1.000000</td>\n",
       "      <td>1.000000</td>\n",
       "    </tr>\n",
       "    <tr>\n",
       "      <th>max</th>\n",
       "      <td>57871.595000</td>\n",
       "      <td>97.000000</td>\n",
       "      <td>2000.000000</td>\n",
       "      <td>2000.000000</td>\n",
       "      <td>1.000000</td>\n",
       "      <td>1.000000</td>\n",
       "    </tr>\n",
       "  </tbody>\n",
       "</table>\n",
       "</div>"
      ],
      "text/plain": [
       "             weight      ageOFocc       yearacc       yearVeh       frontal  \\\n",
       "count  12963.000000  12963.000000  12963.000000  12963.000000  12963.000000   \n",
       "mean     445.180672     37.287665   1998.058783   1991.342205      0.640130   \n",
       "std     1593.256321     17.962704      0.826819      5.330114      0.479981   \n",
       "min        0.000000     16.000000   1997.000000   1959.000000      0.000000   \n",
       "25%       31.155000     22.000000   1997.000000   1988.000000      0.000000   \n",
       "50%       76.653000     33.000000   1998.000000   1992.000000      1.000000   \n",
       "75%      330.857000     48.000000   1999.000000   1996.000000      1.000000   \n",
       "max    57871.595000     97.000000   2000.000000   2000.000000      1.000000   \n",
       "\n",
       "             deploy  \n",
       "count  12963.000000  \n",
       "mean       0.287588  \n",
       "std        0.452655  \n",
       "min        0.000000  \n",
       "25%        0.000000  \n",
       "50%        0.000000  \n",
       "75%        1.000000  \n",
       "max        1.000000  "
      ]
     },
     "execution_count": 32,
     "metadata": {},
     "output_type": "execute_result"
    }
   ],
   "source": [
    "import pandas as pd\n",
    "desc = pd.read_csv(train_file_path)[NUMERIC_FEATURES].describe()\n",
    "desc"
   ]
  },
  {
   "cell_type": "code",
   "execution_count": 33,
   "metadata": {},
   "outputs": [],
   "source": [
    "MEAN = np.array(desc.T['mean'])\n",
    "STD = np.array(desc.T['std'])"
   ]
  },
  {
   "cell_type": "code",
   "execution_count": 34,
   "metadata": {},
   "outputs": [],
   "source": [
    "def normalize_numeric_data(data, mean, std):\n",
    "  # Center the data\n",
    "  return (data-mean)/std"
   ]
  },
  {
   "cell_type": "code",
   "execution_count": 53,
   "metadata": {},
   "outputs": [
    {
     "data": {
      "text/plain": [
       "NumericColumn(key='numeric', shape=(6,), default_value=None, dtype=tf.float32, normalizer_fn=functools.partial(<function normalize_numeric_data at 0x1080bf200>, mean=array([ 445.181,   37.288, 1998.059, 1991.342,    0.64 ,    0.288]), std=array([1593.256,   17.963,    0.827,    5.33 ,    0.48 ,    0.453])))"
      ]
     },
     "execution_count": 53,
     "metadata": {},
     "output_type": "execute_result"
    }
   ],
   "source": [
    "from functools import partial\n",
    "\n",
    "normalizer = partial(normalize_numeric_data, mean=MEAN, std=STD)\n",
    "\n",
    "numeric_column = tf.feature_column.numeric_column('numeric', normalizer_fn=normalizer, shape=[len(NUMERIC_FEATURES)])\n",
    "numeric_columns = [numeric_column]\n",
    "numeric_column"
   ]
  },
  {
   "cell_type": "code",
   "execution_count": 54,
   "metadata": {},
   "outputs": [
    {
     "data": {
      "text/plain": [
       "<tf.Tensor: shape=(5, 6), dtype=float32, numpy=\n",
       "array([[  81.996,   76.   , 1997.   , 1995.   ,    1.   ,    1.   ],\n",
       "       [  92.285,   55.   , 1998.   , 1997.   ,    1.   ,    1.   ],\n",
       "       [  33.288,   26.   , 1997.   , 1989.   ,    0.   ,    0.   ],\n",
       "       [ 169.829,   47.   , 1997.   , 1985.   ,    1.   ,    0.   ],\n",
       "       [  34.053,   65.   , 1997.   , 1994.   ,    1.   ,    1.   ]],\n",
       "      dtype=float32)>"
      ]
     },
     "execution_count": 54,
     "metadata": {},
     "output_type": "execute_result"
    }
   ],
   "source": [
    "example_batch['numeric']"
   ]
  },
  {
   "cell_type": "code",
   "execution_count": 55,
   "metadata": {},
   "outputs": [
    {
     "data": {
      "text/plain": [
       "array([[-0.228,  2.155, -1.281,  0.686,  0.75 ,  1.574],\n",
       "       [-0.221,  0.986, -0.071,  1.061,  0.75 ,  1.574],\n",
       "       [-0.259, -0.628, -1.281, -0.439, -1.334, -0.635],\n",
       "       [-0.173,  0.541, -1.281, -1.19 ,  0.75 , -0.635],\n",
       "       [-0.258,  1.543, -1.281,  0.499,  0.75 ,  1.574]], dtype=float32)"
      ]
     },
     "execution_count": 55,
     "metadata": {},
     "output_type": "execute_result"
    }
   ],
   "source": [
    "numeric_layer = tf.keras.layers.DenseFeatures(numeric_columns)\n",
    "numeric_layer(example_batch).numpy()"
   ]
  },
  {
   "cell_type": "markdown",
   "metadata": {},
   "source": [
    "## Categorical Data"
   ]
  },
  {
   "cell_type": "code",
   "execution_count": 56,
   "metadata": {},
   "outputs": [],
   "source": [
    "categorical_columns=[]\n",
    "\n",
    "cat_i_c = ['dvcat','dead', 'airbag', 'seatbelt', 'sex', 'occRole']\n",
    "\n",
    "for feature_name in cat_i_c:\n",
    "  vocabulary = df[feature_name].unique()\n",
    "  cat_c = tf.feature_column.categorical_column_with_vocabulary_list(feature_name, vocabulary)\n",
    "  one_hot = tf.feature_column.indicator_column(cat_c)\n",
    "  categorical_columns.append(one_hot)"
   ]
  },
  {
   "cell_type": "code",
   "execution_count": 57,
   "metadata": {},
   "outputs": [
    {
     "data": {
      "text/plain": [
       "[IndicatorColumn(categorical_column=VocabularyListCategoricalColumn(key='dvcat', vocabulary_list=('25-39', '10-24', '40-54', '55+', '1-9km/h'), dtype=tf.string, default_value=-1, num_oov_buckets=0)),\n",
       " IndicatorColumn(categorical_column=VocabularyListCategoricalColumn(key='dead', vocabulary_list=('alive', 'dead'), dtype=tf.string, default_value=-1, num_oov_buckets=0)),\n",
       " IndicatorColumn(categorical_column=VocabularyListCategoricalColumn(key='airbag', vocabulary_list=('none', 'airbag'), dtype=tf.string, default_value=-1, num_oov_buckets=0)),\n",
       " IndicatorColumn(categorical_column=VocabularyListCategoricalColumn(key='seatbelt', vocabulary_list=('belted', 'none'), dtype=tf.string, default_value=-1, num_oov_buckets=0)),\n",
       " IndicatorColumn(categorical_column=VocabularyListCategoricalColumn(key='sex', vocabulary_list=('f', 'm'), dtype=tf.string, default_value=-1, num_oov_buckets=0)),\n",
       " IndicatorColumn(categorical_column=VocabularyListCategoricalColumn(key='occRole', vocabulary_list=('driver', 'pass'), dtype=tf.string, default_value=-1, num_oov_buckets=0))]"
      ]
     },
     "execution_count": 57,
     "metadata": {},
     "output_type": "execute_result"
    }
   ],
   "source": [
    "categorical_columns"
   ]
  },
  {
   "cell_type": "markdown",
   "metadata": {},
   "source": [
    "### Combined Preprocessing Layer"
   ]
  },
  {
   "cell_type": "code",
   "execution_count": 58,
   "metadata": {},
   "outputs": [],
   "source": [
    "preprocessing_layer = tf.keras.layers.DenseFeatures(categorical_columns+numeric_columns)"
   ]
  },
  {
   "cell_type": "code",
   "execution_count": 59,
   "metadata": {},
   "outputs": [
    {
     "name": "stdout",
     "output_type": "stream",
     "text": [
      "[ 0.     1.     1.     0.     1.     0.     0.     0.     0.    -0.228\n",
      "  2.155 -1.281  0.686  0.75   1.574  0.     1.     1.     0.     1.\n",
      "  0.   ]\n"
     ]
    }
   ],
   "source": [
    "print(preprocessing_layer(example_batch).numpy()[0])"
   ]
  },
  {
   "cell_type": "markdown",
   "metadata": {},
   "source": [
    "## Build the Model"
   ]
  },
  {
   "cell_type": "code",
   "execution_count": 66,
   "metadata": {},
   "outputs": [],
   "source": [
    "model = tf.keras.Sequential([\n",
    "  preprocessing_layer,\n",
    "  tf.keras.layers.Dense(60, activation='relu'),\n",
    "  tf.keras.layers.Dense(60, activation='relu'),\n",
    "  tf.keras.layers.Dropout(0.4),\n",
    "  tf.keras.layers.Dense(7, activation='softmax')\n",
    "])\n",
    "\n",
    "#tf.keras.optimizers.SGD(learning_rate=0.01)\n",
    "\n",
    "model.compile(optimizer=tf.keras.optimizers.Adam(learning_rate=0.001),\n",
    "              loss=tf.keras.losses.SparseCategoricalCrossentropy(from_logits=True),\n",
    "              metrics=['accuracy'])"
   ]
  },
  {
   "cell_type": "markdown",
   "metadata": {},
   "source": [
    "## Train, evaluate, and predict"
   ]
  },
  {
   "cell_type": "code",
   "execution_count": 61,
   "metadata": {},
   "outputs": [],
   "source": [
    "train_data = packed_train_data.shuffle(500)\n",
    "test_data = packed_test_data"
   ]
  },
  {
   "cell_type": "code",
   "execution_count": 67,
   "metadata": {},
   "outputs": [
    {
     "name": "stdout",
     "output_type": "stream",
     "text": [
      "Epoch 1/10\n",
      "406/406 [==============================] - 4s 9ms/step - loss: 1.7620 - accuracy: 0.4011\n",
      "Epoch 2/10\n",
      "406/406 [==============================] - 1s 3ms/step - loss: 1.7149 - accuracy: 0.4467\n",
      "Epoch 3/10\n",
      "406/406 [==============================] - 1s 3ms/step - loss: 1.7069 - accuracy: 0.4502\n",
      "Epoch 4/10\n",
      "406/406 [==============================] - 1s 3ms/step - loss: 1.7031 - accuracy: 0.4533\n",
      "Epoch 5/10\n",
      "406/406 [==============================] - 1s 3ms/step - loss: 1.6917 - accuracy: 0.4641\n",
      "Epoch 6/10\n",
      "406/406 [==============================] - 1s 3ms/step - loss: 1.6583 - accuracy: 0.4987\n",
      "Epoch 7/10\n",
      "406/406 [==============================] - 1s 3ms/step - loss: 1.6580 - accuracy: 0.4968\n",
      "Epoch 8/10\n",
      "406/406 [==============================] - 1s 3ms/step - loss: 1.6556 - accuracy: 0.4989\n",
      "Epoch 9/10\n",
      "406/406 [==============================] - 1s 3ms/step - loss: 1.6524 - accuracy: 0.5057\n",
      "Epoch 10/10\n",
      "406/406 [==============================] - 1s 3ms/step - loss: 1.6527 - accuracy: 0.5061\n"
     ]
    },
    {
     "data": {
      "text/plain": [
       "<tensorflow.python.keras.callbacks.History at 0x63867a4d0>"
      ]
     },
     "execution_count": 67,
     "metadata": {},
     "output_type": "execute_result"
    }
   ],
   "source": [
    "model.fit(train_data, epochs=10)"
   ]
  },
  {
   "cell_type": "code",
   "execution_count": 68,
   "metadata": {},
   "outputs": [
    {
     "name": "stdout",
     "output_type": "stream",
     "text": [
      "    410/Unknown - 3s 7ms/step - loss: 1.6651 - accuracy: 0.4897\n",
      "\n",
      "Test Loss 1.6650657208954416, Test Accuracy 0.48969465494155884\n"
     ]
    }
   ],
   "source": [
    "test_loss, test_accuracy = model.evaluate(test_data)\n",
    "\n",
    "print('\\n\\nTest Loss {}, Test Accuracy {}'.format(test_loss, test_accuracy))"
   ]
  },
  {
   "cell_type": "markdown",
   "metadata": {},
   "source": [
    "## Confusion Matrix"
   ]
  },
  {
   "cell_type": "code",
   "execution_count": 69,
   "metadata": {},
   "outputs": [],
   "source": [
    "predictions = model.predict(test_data)"
   ]
  },
  {
   "cell_type": "code",
   "execution_count": 94,
   "metadata": {},
   "outputs": [
    {
     "data": {
      "text/plain": [
       "(13100,)"
      ]
     },
     "execution_count": 94,
     "metadata": {},
     "output_type": "execute_result"
    }
   ],
   "source": [
    "pred = []\n",
    "for row in predictions:\n",
    "    index = np.argmax(row)\n",
    "    pred.append(index)\n",
    "    \n",
    "pred = np.array(pred)\n",
    "pred.shape"
   ]
  },
  {
   "cell_type": "code",
   "execution_count": 95,
   "metadata": {},
   "outputs": [
    {
     "data": {
      "text/plain": [
       "array([3, 3, 0, 3, 3, 1, 3, 1, 3, 0, 4, 0, 0, 3, 0, 3, 3, 3, 3, 3])"
      ]
     },
     "execution_count": 95,
     "metadata": {},
     "output_type": "execute_result"
    }
   ],
   "source": [
    "pred[:20]"
   ]
  },
  {
   "cell_type": "code",
   "execution_count": 101,
   "metadata": {},
   "outputs": [
    {
     "data": {
      "text/plain": [
       "(13100,)"
      ]
     },
     "execution_count": 101,
     "metadata": {},
     "output_type": "execute_result"
    }
   ],
   "source": [
    "test_df = pd.read_csv('https://raw.githubusercontent.com/rosagradilla19/CarAccidentNN/master/test_2.csv')\n",
    "\n",
    "labels = test_df['injSeverity']\n",
    "labels_np = np.array(labels)\n",
    "\n",
    "labels_np.shape"
   ]
  },
  {
   "cell_type": "code",
   "execution_count": 112,
   "metadata": {},
   "outputs": [],
   "source": [
    "from sklearn.metrics import confusion_matrix\n",
    "\n",
    "conf_matrix = confusion_matrix(y_true= labels_np, y_pred=pred)"
   ]
  },
  {
   "cell_type": "code",
   "execution_count": 113,
   "metadata": {},
   "outputs": [],
   "source": [
    "# Plot the confusion matrix\n",
    "import matplotlib.pyplot as plt\n",
    "import seaborn as sns"
   ]
  },
  {
   "cell_type": "code",
   "execution_count": 114,
   "metadata": {},
   "outputs": [
    {
     "data": {
      "image/png": "[encoded data removed]",
      "text/plain": [
       "<Figure size 576x576 with 2 Axes>"
      ]
     },
     "metadata": {
      "needs_background": "light"
     },
     "output_type": "display_data"
    }
   ],
   "source": [
    "f,ax = plt.subplots(figsize=(8,8))\n",
    "sns.heatmap(conf_matrix, annot=True,\n",
    "           linewidths=0.01,cmap=\"Greens\",linecolor=\"gray\", fmt= '.1f',ax=ax)\n",
    "\n",
    "plt.xlabel('Predicted Label')\n",
    "plt.ylabel('True Label')\n",
    "plt.title('Confusion Matrix')\n",
    "\n",
    "plt.show()"
   ]
  },
  {
   "cell_type": "code",
   "execution_count": null,
   "metadata": {},
   "outputs": [],
   "source": []
  }
 ],
 "metadata": {
  "kernelspec": {
   "display_name": "Python 3",
   "language": "python",
   "name": "python3"
  },
  "language_info": {
   "codemirror_mode": {
    "name": "ipython",
    "version": 3
   },
   "file_extension": ".py",
   "mimetype": "text/x-python",
   "name": "python",
   "nbconvert_exporter": "python",
   "pygments_lexer": "ipython3",
   "version": "3.7.6"
  }
 },
 "nbformat": 4,
 "nbformat_minor": 4
}
